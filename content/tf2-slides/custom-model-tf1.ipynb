{
 "cells": [
  {
   "cell_type": "markdown",
   "metadata": {},
   "source": [
    "# Example of custom training in TF1"
   ]
  },
  {
   "cell_type": "code",
   "execution_count": 1,
   "metadata": {},
   "outputs": [],
   "source": [
    "import tensorflow as tf\n",
    "import numpy as np\n",
    "import pandas as pd\n",
    "import matplotlib.pyplot as plt"
   ]
  },
  {
   "cell_type": "markdown",
   "metadata": {},
   "source": [
    "# Build training data"
   ]
  },
  {
   "cell_type": "code",
   "execution_count": 2,
   "metadata": {},
   "outputs": [],
   "source": [
    "n = 100\n",
    "TRUE_W = 3.0\n",
    "TRUE_b = 2.0\n",
    "\n",
    "# random samples from normal distribution\n",
    "np.random.seed(1)\n",
    "r = np.random.normal(loc=0, scale=0.5, size=n)\n",
    "\n",
    "# build data\n",
    "inputs = np.random.normal(loc=0, scale=0.5, size=n)\n",
    "outputs = TRUE_W * inputs + TRUE_b + r"
   ]
  },
  {
   "cell_type": "code",
   "execution_count": 3,
   "metadata": {},
   "outputs": [
    {
     "data": {
      "image/png": "[encoded data removed]",
      "text/plain": [
       "<Figure size 432x288 with 1 Axes>"
      ]
     },
     "metadata": {
      "needs_background": "light"
     },
     "output_type": "display_data"
    }
   ],
   "source": [
    "plt.scatter(inputs, outputs, c='black')\n",
    "plt.xlabel('input')\n",
    "plt.ylabel('output')\n",
    "plt.show()"
   ]
  },
  {
   "cell_type": "markdown",
   "metadata": {},
   "source": [
    "# Define model"
   ]
  },
  {
   "cell_type": "code",
   "execution_count": 4,
   "metadata": {},
   "outputs": [],
   "source": [
    "# graph input placeholders\n",
    "X = tf.placeholder(\"float\")\n",
    "Y = tf.placeholder(\"float\")\n",
    "\n",
    "# trainable variables\n",
    "W = tf.Variable(5.0, name=\"weight\")\n",
    "b = tf.Variable(0.0, name=\"bias\")\n",
    "\n",
    "# linear model\n",
    "pred = tf.add(tf.multiply(X, W), b)"
   ]
  },
  {
   "cell_type": "markdown",
   "metadata": {},
   "source": [
    "# Train model"
   ]
  },
  {
   "cell_type": "markdown",
   "metadata": {},
   "source": [
    "## Setup configurations"
   ]
  },
  {
   "cell_type": "code",
   "execution_count": 5,
   "metadata": {},
   "outputs": [],
   "source": [
    "N_EPOCHS = 10\n",
    "LEARNING_RATE = 0.01\n",
    "\n",
    "# loss\n",
    "loss = tf.reduce_mean(tf.square(pred - Y))\n",
    "\n",
    "# Gradient descent\n",
    "optimizer = tf.train.GradientDescentOptimizer(LEARNING_RATE).minimize(loss)\n",
    "\n",
    "# initialize variables\n",
    "init = tf.global_variables_initializer()"
   ]
  },
  {
   "cell_type": "markdown",
   "metadata": {},
   "source": [
    "## Execute training"
   ]
  },
  {
   "cell_type": "code",
   "execution_count": 6,
   "metadata": {},
   "outputs": [
    {
     "data": {
      "image/png": "[encoded data removed]",
      "text/plain": [
       "<Figure size 432x288 with 1 Axes>"
      ]
     },
     "metadata": {
      "needs_background": "light"
     },
     "output_type": "display_data"
    }
   ],
   "source": [
    "with tf.Session() as sess:\n",
    "\n",
    "    sess.run(init)\n",
    "\n",
    "    Ws, bs = [], []\n",
    "    epochs = range(N_EPOCHS)\n",
    "    for epoch in epochs:\n",
    "\n",
    "        # get variables and loss before training of each epoch\n",
    "        _W, _b = sess.run([W, b], feed_dict={X: inputs, Y: outputs})\n",
    "        \n",
    "        # record variables\n",
    "        Ws.append(_W)\n",
    "        bs.append(_b)\n",
    "        \n",
    "        # train\n",
    "        for (x, y) in zip(inputs, outputs):\n",
    "            sess.run(optimizer, feed_dict={X: x, Y: y})\n",
    "        \n",
    "    # plot the evolution of trainable variables\n",
    "    plt.plot(epochs, Ws, 'r',\n",
    "             epochs, bs, 'b')\n",
    "    plt.plot([TRUE_W] * len(epochs), 'r--',\n",
    "             [TRUE_b] * len(epochs), 'b--')\n",
    "    plt.legend(['W', 'b', 'True W', 'True b'])\n",
    "    plt.show()"
   ]
  }
 ],
 "metadata": {
  "kernelspec": {
   "display_name": "Python 3",
   "language": "python",
   "name": "python3"
  },
  "language_info": {
   "codemirror_mode": {
    "name": "ipython",
    "version": 3
   },
   "file_extension": ".py",
   "mimetype": "text/x-python",
   "name": "python",
   "nbconvert_exporter": "python",
   "pygments_lexer": "ipython3",
   "version": "3.7.3"
  }
 },
 "nbformat": 4,
 "nbformat_minor": 2
}
