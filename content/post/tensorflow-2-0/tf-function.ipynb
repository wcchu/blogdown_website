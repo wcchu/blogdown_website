{
 "cells": [
  {
   "cell_type": "code",
   "execution_count": 1,
   "metadata": {},
   "outputs": [],
   "source": [
    "import tensorflow as tf"
   ]
  },
  {
   "cell_type": "markdown",
   "metadata": {},
   "source": [
    "# Simple usage"
   ]
  },
  {
   "cell_type": "code",
   "execution_count": 2,
   "metadata": {},
   "outputs": [
    {
     "name": "stdout",
     "output_type": "stream",
     "text": [
      "25.0\n"
     ]
    }
   ],
   "source": [
    "# define python function\n",
    "def f(x):\n",
    "    return 5.0 * x\n",
    "\n",
    "print(f(5))"
   ]
  },
  {
   "cell_type": "code",
   "execution_count": 3,
   "metadata": {},
   "outputs": [
    {
     "name": "stdout",
     "output_type": "stream",
     "text": [
      "tf.Tensor(25.0, shape=(), dtype=float32)\n"
     ]
    }
   ],
   "source": [
    "g = tf.function(f)\n",
    "\n",
    "print(g(5))"
   ]
  },
  {
   "cell_type": "markdown",
   "metadata": {},
   "source": [
    "Note that `tf.function` doesn't automatically convert inputs to tensors. \"... a new graph is generated for each distinct python numerical value, for example calling `g(2)` and `g(3)` will generate two new graphs (while only one is generated if you call `g(tf.constant(2))` and `g(tf.constant(3))`).\""
   ]
  },
  {
   "cell_type": "markdown",
   "metadata": {},
   "source": [
    "# As decorator\n",
    "\n",
    "- automatically include functions within annotated function into graph\n",
    "- automatically convert python flow control\n",
    "- use input_signature to convert inputs to specified TensorSpecs"
   ]
  },
  {
   "cell_type": "code",
   "execution_count": 4,
   "metadata": {},
   "outputs": [
    {
     "name": "stdout",
     "output_type": "stream",
     "text": [
      "tf.Tensor(10.0, shape=(), dtype=float32)\n",
      "tf.Tensor(125.0, shape=(), dtype=float32)\n"
     ]
    }
   ],
   "source": [
    "@tf.function(input_signature=[tf.TensorSpec(shape=[], dtype=tf.float32)])\n",
    "def g2(x):\n",
    "    if x < 3:\n",
    "        return 5.0 * x\n",
    "    else:\n",
    "        # don't have to annotate f(x) separately\n",
    "        return x * f(x)\n",
    "\n",
    "print(g2(2))\n",
    "print(g2(5))"
   ]
  }
 ],
 "metadata": {
  "kernelspec": {
   "display_name": "Python 3",
   "language": "python",
   "name": "python3"
  },
  "language_info": {
   "codemirror_mode": {
    "name": "ipython",
    "version": 3
   },
   "file_extension": ".py",
   "mimetype": "text/x-python",
   "name": "python",
   "nbconvert_exporter": "python",
   "pygments_lexer": "ipython3",
   "version": "3.7.3"
  }
 },
 "nbformat": 4,
 "nbformat_minor": 2
}
